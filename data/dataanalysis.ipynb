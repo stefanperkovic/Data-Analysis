{
 "cells": [
  {
   "cell_type": "markdown",
   "metadata": {},
   "source": [
    "# Data Exploration "
   ]
  },
  {
   "cell_type": "code",
   "execution_count": 228,
   "metadata": {},
   "outputs": [],
   "source": [
    "import pandas as pd\n",
    "import matplotlib.pyplot as plt\n",
    "df = pd.read_csv(\"modern_RAPTOR_by_team.csv\")\n"
   ]
  },
  {
   "cell_type": "code",
   "execution_count": 229,
   "metadata": {},
   "outputs": [
    {
     "name": "stdout",
     "output_type": "stream",
     "text": [
      "<class 'pandas.core.frame.DataFrame'>\n",
      "RangeIndex: 7289 entries, 0 to 7288\n",
      "Data columns (total 23 columns):\n",
      " #   Column                Non-Null Count  Dtype  \n",
      "---  ------                --------------  -----  \n",
      " 0   player_name           7289 non-null   object \n",
      " 1   player_id             7289 non-null   object \n",
      " 2   season                7289 non-null   int64  \n",
      " 3   season_type           7289 non-null   object \n",
      " 4   team                  7289 non-null   object \n",
      " 5   poss                  7289 non-null   int64  \n",
      " 6   mp                    7289 non-null   int64  \n",
      " 7   raptor_box_offense    7287 non-null   float64\n",
      " 8   raptor_box_defense    7287 non-null   float64\n",
      " 9   raptor_box_total      7287 non-null   float64\n",
      " 10  raptor_onoff_offense  7287 non-null   float64\n",
      " 11  raptor_onoff_defense  7287 non-null   float64\n",
      " 12  raptor_onoff_total    7287 non-null   float64\n",
      " 13  raptor_offense        7289 non-null   float64\n",
      " 14  raptor_defense        7289 non-null   float64\n",
      " 15  raptor_total          7289 non-null   float64\n",
      " 16  war_total             7287 non-null   float64\n",
      " 17  war_reg_season        7288 non-null   float64\n",
      " 18  war_playoffs          7288 non-null   float64\n",
      " 19  predator_offense      7289 non-null   float64\n",
      " 20  predator_defense      7289 non-null   float64\n",
      " 21  predator_total        7289 non-null   float64\n",
      " 22  pace_impact           7287 non-null   float64\n",
      "dtypes: float64(16), int64(3), object(4)\n",
      "memory usage: 1.3+ MB\n"
     ]
    },
    {
     "data": {
      "text/plain": [
       "Index(['player_name', 'player_id', 'season', 'season_type', 'team', 'poss',\n",
       "       'mp', 'raptor_box_offense', 'raptor_box_defense', 'raptor_box_total',\n",
       "       'raptor_onoff_offense', 'raptor_onoff_defense', 'raptor_onoff_total',\n",
       "       'raptor_offense', 'raptor_defense', 'raptor_total', 'war_total',\n",
       "       'war_reg_season', 'war_playoffs', 'predator_offense',\n",
       "       'predator_defense', 'predator_total', 'pace_impact'],\n",
       "      dtype='object')"
      ]
     },
     "execution_count": 229,
     "metadata": {},
     "output_type": "execute_result"
    }
   ],
   "source": [
    "df.info()\n",
    "df.columns"
   ]
  },
  {
   "cell_type": "code",
   "execution_count": 230,
   "metadata": {},
   "outputs": [
    {
     "data": {
      "text/plain": [
       "(7289, 23)"
      ]
     },
     "execution_count": 230,
     "metadata": {},
     "output_type": "execute_result"
    }
   ],
   "source": [
    "df.shape"
   ]
  },
  {
   "cell_type": "markdown",
   "metadata": {},
   "source": [
    "#### Raptor box offense, defense, and box total indicate how a players individual preformance predicts long term real adjusted plus minus or how many points a player adds or decreases to the teams lead"
   ]
  },
  {
   "cell_type": "markdown",
   "metadata": {},
   "source": [
    "#### Raptor on/off offense, defense, and total evaluate how a players team preformed while he was on the floor and how they preformed while he was off the court. This stat indicates how much value a player brought in elevating his own teamates preformance."
   ]
  },
  {
   "cell_type": "markdown",
   "metadata": {},
   "source": [
    "# Data Cleaning"
   ]
  },
  {
   "cell_type": "markdown",
   "metadata": {},
   "source": [
    "### Drop rows where the player played less then 500 minutes in a season as thats not enough playing time for valuable data"
   ]
  },
  {
   "cell_type": "code",
   "execution_count": 231,
   "metadata": {},
   "outputs": [
    {
     "data": {
      "text/plain": [
       "mp\n",
       "562     9\n",
       "683     9\n",
       "505     8\n",
       "1326    7\n",
       "984     7\n",
       "       ..\n",
       "995     1\n",
       "2309    1\n",
       "1035    1\n",
       "1080    1\n",
       "1082    1\n",
       "Name: count, Length: 1734, dtype: int64"
      ]
     },
     "execution_count": 231,
     "metadata": {},
     "output_type": "execute_result"
    }
   ],
   "source": [
    "df['mp'].value_counts()\n",
    "df = df.loc[df['mp'] > 500]\n",
    "df.shape\n",
    "df['mp'].value_counts()"
   ]
  },
  {
   "cell_type": "markdown",
   "metadata": {},
   "source": [
    "### Drop collums with stats that are not related to raptor spceficially"
   ]
  },
  {
   "cell_type": "code",
   "execution_count": 232,
   "metadata": {},
   "outputs": [],
   "source": [
    "df = df[['player_name', 'player_id', 'season', \"season_type\", 'poss', 'mp', \n",
    "       'raptor_box_offense', 'raptor_box_defense', 'raptor_box_total',\n",
    "       'raptor_onoff_offense', 'raptor_onoff_defense', 'raptor_onoff_total',\n",
    "       'raptor_offense', 'raptor_defense', 'raptor_total']]"
   ]
  },
  {
   "cell_type": "markdown",
   "metadata": {},
   "source": [
    "### Round all the data to only two decimal places"
   ]
  },
  {
   "cell_type": "code",
   "execution_count": 233,
   "metadata": {},
   "outputs": [
    {
     "data": {
      "text/plain": [
       "raptor_box_defense\n",
       " 0.48    15\n",
       " 0.08    14\n",
       "-0.17    14\n",
       " 1.14    13\n",
       "-0.76    13\n",
       "         ..\n",
       "-3.04     1\n",
       " 4.41     1\n",
       "-4.41     1\n",
       "-2.86     1\n",
       "-4.89     1\n",
       "Name: count, Length: 854, dtype: int64"
      ]
     },
     "execution_count": 233,
     "metadata": {},
     "output_type": "execute_result"
    }
   ],
   "source": [
    "to_round = ['raptor_box_offense', 'raptor_box_defense', 'raptor_box_total',\n",
    "       'raptor_onoff_offense', 'raptor_onoff_defense', 'raptor_onoff_total',\n",
    "       'raptor_offense', 'raptor_defense', 'raptor_total']\n",
    "\n",
    "for col in to_round:\n",
    "    df[col] = df[col].map(lambda value: round(value, 2))\n",
    "# df.shape\n",
    "# df.info()\n",
    "df[\"raptor_box_defense\"].value_counts()"
   ]
  },
  {
   "cell_type": "markdown",
   "metadata": {},
   "source": [
    "# Exploratory Data Analysis"
   ]
  },
  {
   "cell_type": "markdown",
   "metadata": {},
   "source": [
    "## Univariate"
   ]
  },
  {
   "cell_type": "markdown",
   "metadata": {},
   "source": [
    "### Range"
   ]
  },
  {
   "cell_type": "code",
   "execution_count": 234,
   "metadata": {},
   "outputs": [
    {
     "data": {
      "text/plain": [
       "season                     8.00\n",
       "poss                    5533.00\n",
       "mp                      2624.00\n",
       "raptor_box_offense        18.70\n",
       "raptor_box_defense        14.34\n",
       "raptor_box_total          24.35\n",
       "raptor_onoff_offense      30.26\n",
       "raptor_onoff_defense      20.58\n",
       "raptor_onoff_total        35.08\n",
       "raptor_offense            19.88\n",
       "raptor_defense            14.99\n",
       "raptor_total              24.88\n",
       "dtype: float64"
      ]
     },
     "execution_count": 234,
     "metadata": {},
     "output_type": "execute_result"
    }
   ],
   "source": [
    "numeric = df.select_dtypes(\"number\")\n",
    "numeric.max() - numeric.min()"
   ]
  },
  {
   "cell_type": "markdown",
   "metadata": {},
   "source": [
    "### Mean "
   ]
  },
  {
   "cell_type": "code",
   "execution_count": 235,
   "metadata": {},
   "outputs": [
    {
     "data": {
      "text/plain": [
       "season                  2018.02\n",
       "poss                    2949.82\n",
       "mp                      1433.55\n",
       "raptor_box_offense        -0.13\n",
       "raptor_box_defense         0.05\n",
       "raptor_box_total          -0.07\n",
       "raptor_onoff_offense      -0.15\n",
       "raptor_onoff_defense       0.07\n",
       "raptor_onoff_total        -0.08\n",
       "raptor_offense            -0.14\n",
       "raptor_defense             0.06\n",
       "raptor_total              -0.08\n",
       "dtype: float64"
      ]
     },
     "execution_count": 235,
     "metadata": {},
     "output_type": "execute_result"
    }
   ],
   "source": [
    "numeric = df.select_dtypes(\"number\")\n",
    "round(numeric.mean(), 2)\n"
   ]
  },
  {
   "cell_type": "markdown",
   "metadata": {},
   "source": [
    "### Median"
   ]
  },
  {
   "cell_type": "code",
   "execution_count": 236,
   "metadata": {},
   "outputs": [
    {
     "data": {
      "text/plain": [
       "season                  2018.000\n",
       "poss                    2799.500\n",
       "mp                      1359.500\n",
       "raptor_box_offense        -0.370\n",
       "raptor_box_defense         0.000\n",
       "raptor_box_total          -0.200\n",
       "raptor_onoff_offense      -0.290\n",
       "raptor_onoff_defense      -0.005\n",
       "raptor_onoff_total        -0.210\n",
       "raptor_offense            -0.350\n",
       "raptor_defense            -0.005\n",
       "raptor_total              -0.220\n",
       "dtype: float64"
      ]
     },
     "execution_count": 236,
     "metadata": {},
     "output_type": "execute_result"
    }
   ],
   "source": [
    "numeric = df.select_dtypes(\"number\")\n",
    "numeric.median()"
   ]
  },
  {
   "cell_type": "markdown",
   "metadata": {},
   "source": [
    "### Difference Between Mean and Median"
   ]
  },
  {
   "cell_type": "code",
   "execution_count": 237,
   "metadata": {},
   "outputs": [
    {
     "data": {
      "text/plain": [
       "season                    0.022029\n",
       "poss                    150.315942\n",
       "mp                       74.052174\n",
       "raptor_box_offense        0.244722\n",
       "raptor_box_defense        0.051910\n",
       "raptor_box_total          0.126710\n",
       "raptor_onoff_offense      0.142191\n",
       "raptor_onoff_defense      0.070470\n",
       "raptor_onoff_total        0.127643\n",
       "raptor_offense            0.211310\n",
       "raptor_defense            0.061936\n",
       "raptor_total              0.138261\n",
       "dtype: float64"
      ]
     },
     "execution_count": 237,
     "metadata": {},
     "output_type": "execute_result"
    }
   ],
   "source": [
    "numeric.mean() - numeric.median()"
   ]
  },
  {
   "cell_type": "markdown",
   "metadata": {},
   "source": [
    "#### The mean of the data is slightly overinflated by a certain amount of way above average players"
   ]
  },
  {
   "cell_type": "markdown",
   "metadata": {},
   "source": [
    "## Box Plot"
   ]
  },
  {
   "cell_type": "code",
   "execution_count": 238,
   "metadata": {},
   "outputs": [
    {
     "data": {
      "image/png": "[encoded data removed]",
      "text/plain": [
       "<Figure size 640x480 with 1 Axes>"
      ]
     },
     "metadata": {},
     "output_type": "display_data"
    }
   ],
   "source": [
    "test_grades = pd.Series([65, 70, 100, 92, 25, 83, 76, 82, 65, 96])\n",
    "\n",
    "\n",
    "# Create a boxplot\n",
    "plt.boxplot(df[\"raptor_total\"])\n",
    "plt.title(\"Player spread\")\n",
    "plt.xlabel(\"Player\")\n",
    "plt.ylabel(\"Raptor value\")\n",
    "plt.show()"
   ]
  },
  {
   "cell_type": "markdown",
   "metadata": {},
   "source": [
    "### Histogram"
   ]
  },
  {
   "cell_type": "code",
   "execution_count": 239,
   "metadata": {},
   "outputs": [
    {
     "data": {
      "image/png": "[encoded data removed]",
      "text/plain": [
       "<Figure size 1000x800 with 1 Axes>"
      ]
     },
     "metadata": {},
     "output_type": "display_data"
    }
   ],
   "source": [
    "df[\"raptor_total\"].hist(figsize=(10, 8), bins=50)\n",
    "\n",
    "plt.suptitle(\"Histogram of Raptor values\")\n",
    "\n",
    "plt.show()"
   ]
  },
  {
   "cell_type": "markdown",
   "metadata": {},
   "source": [
    "# Statistical Analysis"
   ]
  },
  {
   "cell_type": "markdown",
   "metadata": {},
   "source": [
    "### How does the leagues overal regular season raptor compare to their playoff raptor?"
   ]
  },
  {
   "cell_type": "code",
   "execution_count": 240,
   "metadata": {},
   "outputs": [
    {
     "data": {
      "text/plain": [
       "season                    -0.071363\n",
       "poss                   -1726.073239\n",
       "mp                      -817.631974\n",
       "raptor_box_offense         2.510328\n",
       "raptor_box_defense         1.192643\n",
       "raptor_box_total           3.702949\n",
       "raptor_onoff_offense       3.359293\n",
       "raptor_onoff_defense       1.109615\n",
       "raptor_onoff_total         4.468445\n",
       "raptor_offense             2.777762\n",
       "raptor_defense             1.202879\n",
       "raptor_total               3.980386\n",
       "dtype: float64"
      ]
     },
     "execution_count": 240,
     "metadata": {},
     "output_type": "execute_result"
    }
   ],
   "source": [
    "playoffs = df.query(\"season_type == 'PO'\")\n",
    "regular_season = df.query(\"season_type == 'RS'\")\n",
    "playoffs_numeric = playoffs.select_dtypes(\"number\")\n",
    "regular_season_numeric = regular_season.select_dtypes(\"number\")\n",
    "playoffs_numeric.mean()\n",
    "playoffs_numeric.mean() - regular_season_numeric.mean()\n",
    "\n",
    "\n",
    "\n",
    "\n"
   ]
  },
  {
   "cell_type": "markdown",
   "metadata": {},
   "source": [
    "On average a players raptor total will increase by 3.9 in the playoffs compared to in the regular season"
   ]
  },
  {
   "cell_type": "code",
   "execution_count": 241,
   "metadata": {},
   "outputs": [
    {
     "data": {
      "text/plain": [
       "0.7513078532839175"
      ]
     },
     "execution_count": 241,
     "metadata": {},
     "output_type": "execute_result"
    }
   ],
   "source": [
    "playoffs[\"raptor_total\"].std() - regular_season[\"raptor_total\"].std()"
   ]
  },
  {
   "cell_type": "markdown",
   "metadata": {},
   "source": [
    "Playoffs have a standard deviation of 0.75 more than regular seasosn displaying a bigger gap in preformancce betweeen players. "
   ]
  },
  {
   "cell_type": "markdown",
   "metadata": {},
   "source": [
    "## What were the best nba regular seasons and playoffs according to raptor?"
   ]
  },
  {
   "cell_type": "code",
   "execution_count": 242,
   "metadata": {},
   "outputs": [
    {
     "data": {
      "text/html": [
       "<div>\n",
       "<style scoped>\n",
       "    .dataframe tbody tr th:only-of-type {\n",
       "        vertical-align: middle;\n",
       "    }\n",
       "\n",
       "    .dataframe tbody tr th {\n",
       "        vertical-align: top;\n",
       "    }\n",
       "\n",
       "    .dataframe thead th {\n",
       "        text-align: right;\n",
       "    }\n",
       "</style>\n",
       "<table border=\"1\" class=\"dataframe\">\n",
       "  <thead>\n",
       "    <tr style=\"text-align: right;\">\n",
       "      <th></th>\n",
       "      <th>player_name</th>\n",
       "      <th>player_id</th>\n",
       "      <th>season</th>\n",
       "      <th>season_type</th>\n",
       "      <th>poss</th>\n",
       "      <th>mp</th>\n",
       "      <th>raptor_box_offense</th>\n",
       "      <th>raptor_box_defense</th>\n",
       "      <th>raptor_box_total</th>\n",
       "      <th>raptor_onoff_offense</th>\n",
       "      <th>raptor_onoff_defense</th>\n",
       "      <th>raptor_onoff_total</th>\n",
       "      <th>raptor_offense</th>\n",
       "      <th>raptor_defense</th>\n",
       "      <th>raptor_total</th>\n",
       "    </tr>\n",
       "  </thead>\n",
       "  <tbody>\n",
       "    <tr>\n",
       "      <th>3599</th>\n",
       "      <td>Nikola Jokic</td>\n",
       "      <td>jokicni01</td>\n",
       "      <td>2022</td>\n",
       "      <td>RS</td>\n",
       "      <td>5130</td>\n",
       "      <td>2476</td>\n",
       "      <td>8.66</td>\n",
       "      <td>6.15</td>\n",
       "      <td>14.81</td>\n",
       "      <td>7.64</td>\n",
       "      <td>3.76</td>\n",
       "      <td>11.4</td>\n",
       "      <td>8.87</td>\n",
       "      <td>6.0</td>\n",
       "      <td>14.87</td>\n",
       "    </tr>\n",
       "  </tbody>\n",
       "</table>\n",
       "</div>"
      ],
      "text/plain": [
       "       player_name  player_id  season season_type  poss    mp  \\\n",
       "3599  Nikola Jokic  jokicni01    2022          RS  5130  2476   \n",
       "\n",
       "      raptor_box_offense  raptor_box_defense  raptor_box_total  \\\n",
       "3599                8.66                6.15             14.81   \n",
       "\n",
       "      raptor_onoff_offense  raptor_onoff_defense  raptor_onoff_total  \\\n",
       "3599                  7.64                  3.76                11.4   \n",
       "\n",
       "      raptor_offense  raptor_defense  raptor_total  \n",
       "3599            8.87             6.0         14.87  "
      ]
     },
     "execution_count": 242,
     "metadata": {},
     "output_type": "execute_result"
    }
   ],
   "source": [
    "max_r = regular_season[\"raptor_total\"].max()\n",
    "max_p = playoffs[\"raptor_total\"].max()\n",
    "\n",
    "df[\"raptor_total\"] == max_r\n",
    "\n",
    "# Best player in regular season\n",
    "df.loc[df[\"raptor_total\"] == max_r]"
   ]
  },
  {
   "cell_type": "code",
   "execution_count": 243,
   "metadata": {},
   "outputs": [
    {
     "data": {
      "text/html": [
       "<div>\n",
       "<style scoped>\n",
       "    .dataframe tbody tr th:only-of-type {\n",
       "        vertical-align: middle;\n",
       "    }\n",
       "\n",
       "    .dataframe tbody tr th {\n",
       "        vertical-align: top;\n",
       "    }\n",
       "\n",
       "    .dataframe thead th {\n",
       "        text-align: right;\n",
       "    }\n",
       "</style>\n",
       "<table border=\"1\" class=\"dataframe\">\n",
       "  <thead>\n",
       "    <tr style=\"text-align: right;\">\n",
       "      <th></th>\n",
       "      <th>player_name</th>\n",
       "      <th>player_id</th>\n",
       "      <th>season</th>\n",
       "      <th>season_type</th>\n",
       "      <th>poss</th>\n",
       "      <th>mp</th>\n",
       "      <th>raptor_box_offense</th>\n",
       "      <th>raptor_box_defense</th>\n",
       "      <th>raptor_box_total</th>\n",
       "      <th>raptor_onoff_offense</th>\n",
       "      <th>raptor_onoff_defense</th>\n",
       "      <th>raptor_onoff_total</th>\n",
       "      <th>raptor_offense</th>\n",
       "      <th>raptor_defense</th>\n",
       "      <th>raptor_total</th>\n",
       "    </tr>\n",
       "  </thead>\n",
       "  <tbody>\n",
       "    <tr>\n",
       "      <th>3592</th>\n",
       "      <td>Nikola Jokic</td>\n",
       "      <td>jokicni01</td>\n",
       "      <td>2019</td>\n",
       "      <td>PO</td>\n",
       "      <td>1086</td>\n",
       "      <td>557</td>\n",
       "      <td>8.77</td>\n",
       "      <td>5.44</td>\n",
       "      <td>14.21</td>\n",
       "      <td>3.74</td>\n",
       "      <td>11.0</td>\n",
       "      <td>14.74</td>\n",
       "      <td>8.15</td>\n",
       "      <td>6.93</td>\n",
       "      <td>15.08</td>\n",
       "    </tr>\n",
       "  </tbody>\n",
       "</table>\n",
       "</div>"
      ],
      "text/plain": [
       "       player_name  player_id  season season_type  poss   mp  \\\n",
       "3592  Nikola Jokic  jokicni01    2019          PO  1086  557   \n",
       "\n",
       "      raptor_box_offense  raptor_box_defense  raptor_box_total  \\\n",
       "3592                8.77                5.44             14.21   \n",
       "\n",
       "      raptor_onoff_offense  raptor_onoff_defense  raptor_onoff_total  \\\n",
       "3592                  3.74                  11.0               14.74   \n",
       "\n",
       "      raptor_offense  raptor_defense  raptor_total  \n",
       "3592            8.15            6.93         15.08  "
      ]
     },
     "execution_count": 243,
     "metadata": {},
     "output_type": "execute_result"
    }
   ],
   "source": [
    "df.loc[df[\"raptor_total\"] == max_p]"
   ]
  },
  {
   "cell_type": "markdown",
   "metadata": {},
   "source": [
    "Best playoffs was Jokic in 2019 and best regular seaons was Jokic in 2022"
   ]
  },
  {
   "cell_type": "markdown",
   "metadata": {},
   "source": [
    "## What were the worst nba regular seasons and playoffs according to raptor?"
   ]
  },
  {
   "cell_type": "code",
   "execution_count": 244,
   "metadata": {},
   "outputs": [
    {
     "data": {
      "text/html": [
       "<div>\n",
       "<style scoped>\n",
       "    .dataframe tbody tr th:only-of-type {\n",
       "        vertical-align: middle;\n",
       "    }\n",
       "\n",
       "    .dataframe tbody tr th {\n",
       "        vertical-align: top;\n",
       "    }\n",
       "\n",
       "    .dataframe thead th {\n",
       "        text-align: right;\n",
       "    }\n",
       "</style>\n",
       "<table border=\"1\" class=\"dataframe\">\n",
       "  <thead>\n",
       "    <tr style=\"text-align: right;\">\n",
       "      <th></th>\n",
       "      <th>player_name</th>\n",
       "      <th>player_id</th>\n",
       "      <th>season</th>\n",
       "      <th>season_type</th>\n",
       "      <th>poss</th>\n",
       "      <th>mp</th>\n",
       "      <th>raptor_box_offense</th>\n",
       "      <th>raptor_box_defense</th>\n",
       "      <th>raptor_box_total</th>\n",
       "      <th>raptor_onoff_offense</th>\n",
       "      <th>raptor_onoff_defense</th>\n",
       "      <th>raptor_onoff_total</th>\n",
       "      <th>raptor_offense</th>\n",
       "      <th>raptor_defense</th>\n",
       "      <th>raptor_total</th>\n",
       "    </tr>\n",
       "  </thead>\n",
       "  <tbody>\n",
       "    <tr>\n",
       "      <th>6097</th>\n",
       "      <td>Kobi Simmons</td>\n",
       "      <td>simmoko01</td>\n",
       "      <td>2018</td>\n",
       "      <td>RS</td>\n",
       "      <td>1311</td>\n",
       "      <td>643</td>\n",
       "      <td>-3.95</td>\n",
       "      <td>-5.58</td>\n",
       "      <td>-9.54</td>\n",
       "      <td>-0.55</td>\n",
       "      <td>-7.95</td>\n",
       "      <td>-8.49</td>\n",
       "      <td>-3.43</td>\n",
       "      <td>-6.37</td>\n",
       "      <td>-9.8</td>\n",
       "    </tr>\n",
       "  </tbody>\n",
       "</table>\n",
       "</div>"
      ],
      "text/plain": [
       "       player_name  player_id  season season_type  poss   mp  \\\n",
       "6097  Kobi Simmons  simmoko01    2018          RS  1311  643   \n",
       "\n",
       "      raptor_box_offense  raptor_box_defense  raptor_box_total  \\\n",
       "6097               -3.95               -5.58             -9.54   \n",
       "\n",
       "      raptor_onoff_offense  raptor_onoff_defense  raptor_onoff_total  \\\n",
       "6097                 -0.55                 -7.95               -8.49   \n",
       "\n",
       "      raptor_offense  raptor_defense  raptor_total  \n",
       "6097           -3.43           -6.37          -9.8  "
      ]
     },
     "execution_count": 244,
     "metadata": {},
     "output_type": "execute_result"
    }
   ],
   "source": [
    "min_r = regular_season[\"raptor_total\"].min()\n",
    "min_p = playoffs[\"raptor_total\"].min()\n",
    "\n",
    "df[\"raptor_total\"] == min_r\n",
    "\n",
    "# Worst player in regular season\n",
    "df.loc[df[\"raptor_total\"] == min_r]"
   ]
  },
  {
   "cell_type": "code",
   "execution_count": 245,
   "metadata": {},
   "outputs": [
    {
     "data": {
      "text/html": [
       "<div>\n",
       "<style scoped>\n",
       "    .dataframe tbody tr th:only-of-type {\n",
       "        vertical-align: middle;\n",
       "    }\n",
       "\n",
       "    .dataframe tbody tr th {\n",
       "        vertical-align: top;\n",
       "    }\n",
       "\n",
       "    .dataframe thead th {\n",
       "        text-align: right;\n",
       "    }\n",
       "</style>\n",
       "<table border=\"1\" class=\"dataframe\">\n",
       "  <thead>\n",
       "    <tr style=\"text-align: right;\">\n",
       "      <th></th>\n",
       "      <th>player_name</th>\n",
       "      <th>player_id</th>\n",
       "      <th>season</th>\n",
       "      <th>season_type</th>\n",
       "      <th>poss</th>\n",
       "      <th>mp</th>\n",
       "      <th>raptor_box_offense</th>\n",
       "      <th>raptor_box_defense</th>\n",
       "      <th>raptor_box_total</th>\n",
       "      <th>raptor_onoff_offense</th>\n",
       "      <th>raptor_onoff_defense</th>\n",
       "      <th>raptor_onoff_total</th>\n",
       "      <th>raptor_offense</th>\n",
       "      <th>raptor_defense</th>\n",
       "      <th>raptor_total</th>\n",
       "    </tr>\n",
       "  </thead>\n",
       "  <tbody>\n",
       "    <tr>\n",
       "      <th>4817</th>\n",
       "      <td>Marcus Morris</td>\n",
       "      <td>morrima03</td>\n",
       "      <td>2018</td>\n",
       "      <td>PO</td>\n",
       "      <td>1114</td>\n",
       "      <td>562</td>\n",
       "      <td>-3.09</td>\n",
       "      <td>-2.72</td>\n",
       "      <td>-5.81</td>\n",
       "      <td>-1.11</td>\n",
       "      <td>-2.87</td>\n",
       "      <td>-3.98</td>\n",
       "      <td>-2.87</td>\n",
       "      <td>-2.95</td>\n",
       "      <td>-5.83</td>\n",
       "    </tr>\n",
       "  </tbody>\n",
       "</table>\n",
       "</div>"
      ],
      "text/plain": [
       "        player_name  player_id  season season_type  poss   mp  \\\n",
       "4817  Marcus Morris  morrima03    2018          PO  1114  562   \n",
       "\n",
       "      raptor_box_offense  raptor_box_defense  raptor_box_total  \\\n",
       "4817               -3.09               -2.72             -5.81   \n",
       "\n",
       "      raptor_onoff_offense  raptor_onoff_defense  raptor_onoff_total  \\\n",
       "4817                 -1.11                 -2.87               -3.98   \n",
       "\n",
       "      raptor_offense  raptor_defense  raptor_total  \n",
       "4817           -2.87           -2.95         -5.83  "
      ]
     },
     "execution_count": 245,
     "metadata": {},
     "output_type": "execute_result"
    }
   ],
   "source": [
    "df.loc[df[\"raptor_total\"] == min_p]"
   ]
  },
  {
   "cell_type": "markdown",
   "metadata": {},
   "source": [
    "Worst regular season was Kobi Simmons in 2018 and worst playoffs was was Marcus Moriss in 2018"
   ]
  },
  {
   "cell_type": "markdown",
   "metadata": {},
   "source": [
    "## How does the general leagues offensive RAPTOR comapre to their defensvie RAPTOR?"
   ]
  },
  {
   "cell_type": "code",
   "execution_count": 246,
   "metadata": {},
   "outputs": [
    {
     "data": {
      "image/png": "[encoded data removed]",
      "text/plain": [
       "<Figure size 640x480 with 1 Axes>"
      ]
     },
     "metadata": {},
     "output_type": "display_data"
    }
   ],
   "source": [
    "plt.scatter(df[\"raptor_offense\"], df[\"raptor_defense\"])\n",
    "\n",
    "\n",
    "\n",
    "plt.title(\"Raptor offense vs Raptor defense\")\n",
    "plt.xlabel(\"Offense\")\n",
    "plt.ylabel(\"Defense\")\n",
    "plt.show()\n"
   ]
  },
  {
   "cell_type": "markdown",
   "metadata": {},
   "source": [
    "Their are more players doing better on offense with higher values revealing its higher weight in a players total RAPTOR"
   ]
  }
 ],
 "metadata": {
  "kernelspec": {
   "display_name": ".venv",
   "language": "python",
   "name": "python3"
  },
  "language_info": {
   "codemirror_mode": {
    "name": "ipython",
    "version": 3
   },
   "file_extension": ".py",
   "mimetype": "text/x-python",
   "name": "python",
   "nbconvert_exporter": "python",
   "pygments_lexer": "ipython3",
   "version": "3.9.6"
  },
  "orig_nbformat": 4
 },
 "nbformat": 4,
 "nbformat_minor": 2
}
